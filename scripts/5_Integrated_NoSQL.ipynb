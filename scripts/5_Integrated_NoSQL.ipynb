{
 "cells": [
  {
   "cell_type": "markdown",
   "id": "132c85fa",
   "metadata": {},
   "source": [
    "# Fase 3: Integración con MongoDB\n",
    "1. Instalar la extensión MongoDB for VS Code.\n",
    "2. Conectarse a la base de datos local mongodb://localhost:27017.\n",
    "3. Crear la base de datos Bank_2025 y la colección prestamos.\n",
    "4. Insertar los registros del archivo limpio (bancos_clean.csv) a la colección prestamos usando Python:"
   ]
  },
  {
   "cell_type": "code",
   "execution_count": null,
   "id": "660ad424",
   "metadata": {},
   "outputs": [],
   "source": [
    "import pandas as pd\n",
    "from pymongo import MongoClient\n",
    "\n",
    "client = MongoClient(\"mongodb://localhost:27017/\")\n",
    "db = client[\"Bank_2025\"]\n",
    "collection = db[\"prestamos\"]\n",
    "\n",
    "df = pd.read_csv('../database/bancos_clean.csv')\n",
    "data = df.to_dict(orient=\"records\")\n",
    "collection.insert_many(data)\n",
    "print(\"Datos insertados en MongoDB correctamente.\")"
   ]
  },
  {
   "cell_type": "markdown",
   "id": "ea6f840d",
   "metadata": {},
   "source": [
    "# ✅ A. Mostrar todos los documentos\n",
    "🔹 Imprimir cada documento completo (cada fila del CSV convertido a JSON) almacenado en la colección prestamos."
   ]
  },
  {
   "cell_type": "code",
   "execution_count": null,
   "id": "7eb0b7b5",
   "metadata": {},
   "outputs": [],
   "source": [
    "print(\"Visualizar datos insertados en MongoDB.\")\n",
    "for doc in collection.find():\n",
    "    print(doc)"
   ]
  }
 ],
 "metadata": {
  "kernelspec": {
   "display_name": "myenv",
   "language": "python",
   "name": "python3"
  },
  "language_info": {
   "codemirror_mode": {
    "name": "ipython",
    "version": 3
   },
   "file_extension": ".py",
   "mimetype": "text/x-python",
   "name": "python",
   "nbconvert_exporter": "python",
   "pygments_lexer": "ipython3",
   "version": "3.13.7"
  }
 },
 "nbformat": 4,
 "nbformat_minor": 5
}
