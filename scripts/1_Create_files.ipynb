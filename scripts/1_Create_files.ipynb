{
 "cells": [
  {
   "cell_type": "markdown",
   "id": "1162813a",
   "metadata": {},
   "source": [
    "# Crear Carpetas\n",
    "Se crearan las carpetas\n",
    "\n",
    "data\n",
    "database\n",
    "docs\n",
    "scripts\n",
    "# 🧰 1. Librerías necesarias\n",
    "Para crear carpetas o directorios directamente desde Python, no necesitas instalar nada adicional.\n",
    "\n",
    "Usarás librerías nativas del sistema operativo:\n",
    "\n",
    "1. os → para manejar rutas, crear carpetas, listar archivos, etc.\n",
    "2.  pathlib → más moderna, limpia y recomendada para proyectos nuevos (parte de la librería\n",
    "estándar también).\n",
    "\n",
    "# 🧩 2. Crear carpeta “data” automáticamente\n",
    "###  1. Usando os\n",
    "Se usa la libreria os e importa al proyecto\n",
    "\n",
    "- os.getcwd() obtiene la ruta actual del proyecto.\n",
    "- os.makedirs() crea la carpeta y sus subcarpetas si no existen.\n",
    "- Se verifica con os.path.exists() para no causar errores si la carpeta ya existe.\n",
    "\n"
   ]
  },
  {
   "cell_type": "code",
   "execution_count": 8,
   "id": "a182343a",
   "metadata": {},
   "outputs": [
    {
     "name": "stdout",
     "output_type": "stream",
     "text": [
      "La carpeta 'data' ya existe.\n"
     ]
    }
   ],
   "source": [
    "##✅ Opción 1: usando os\n",
    "import os\n",
    "# Ruta de la carpeta \"data\" dentro del proyecto actual\n",
    "ruta_carpeta = os.path.join(os.getcwd(), \"../data\")\n",
    "# Crear carpeta si no existe\n",
    "if not os.path.exists(ruta_carpeta):\n",
    " os.makedirs(ruta_carpeta)\n",
    " print(f\"Carpeta creada en: {ruta_carpeta}\")\n",
    "else:\n",
    " print(\"La carpeta 'data' ya existe.\")"
   ]
  },
  {
   "cell_type": "markdown",
   "id": "1885d647",
   "metadata": {},
   "source": [
    "### 2. Usando pathlib (más moderno y elegante)"
   ]
  },
  {
   "cell_type": "code",
   "execution_count": 9,
   "id": "03e6d81c",
   "metadata": {},
   "outputs": [
    {
     "name": "stdout",
     "output_type": "stream",
     "text": [
      "Carpeta creada en: c:\\Users\\mmond\\Documents\\BancoDigital_2025\\scripts\\..\\database\n"
     ]
    }
   ],
   "source": [
    " ## Opción 2: usando pathlib (más moderno y elegante)\n",
    "from pathlib import Path\n",
    "# Definir la ruta de la carpeta \"data\"\n",
    "ruta_carpeta = Path.cwd() / \"../database\"\n",
    "# Crear la carpeta si no existe\n",
    "ruta_carpeta.mkdir(parents=True, exist_ok=True)\n",
    "print(f\"Carpeta creada en: {ruta_carpeta}\")"
   ]
  },
  {
   "cell_type": "markdown",
   "id": "37141a93",
   "metadata": {},
   "source": [
    "### 💡 3. Crear otras carpetas en la misma ejecución\n",
    "Se puede crear toda la estructura del proyecto en segundos:"
   ]
  },
  {
   "cell_type": "code",
   "execution_count": 10,
   "id": "2913b13f",
   "metadata": {},
   "outputs": [
    {
     "name": "stdout",
     "output_type": "stream",
     "text": [
      "✅ Carpeta 'data' lista en c:\\Users\\mmond\\Documents\\BancoDigital_2025\\scripts\\..\\data\n",
      "✅ Carpeta 'database' lista en c:\\Users\\mmond\\Documents\\BancoDigital_2025\\scripts\\..\\database\n",
      "✅ Carpeta 'scripts' lista en c:\\Users\\mmond\\Documents\\BancoDigital_2025\\scripts\\..\\scripts\n",
      "✅ Carpeta 'docs' lista en c:\\Users\\mmond\\Documents\\BancoDigital_2025\\scripts\\..\\docs\n"
     ]
    }
   ],
   "source": [
    "##  Crear otras carpetas en la misma ejecución\n",
    "## Puedes crear toda la estructura del proyecto en segundos:\n",
    "from pathlib import Path\n",
    "# Rutas de carpetas del proyecto\n",
    "carpetas = [\"data\", \"database\", \"scripts\", \"docs\"]\n",
    "for carpeta in carpetas:\n",
    " ruta = Path.cwd() / f\"../{carpeta}\"\n",
    " ruta.mkdir(parents=True, exist_ok=True)\n",
    " print(f\"✅ Carpeta '{carpeta}' lista en {ruta}\")"
   ]
  }
 ],
 "metadata": {
  "kernelspec": {
   "display_name": "myenv",
   "language": "python",
   "name": "python3"
  },
  "language_info": {
   "codemirror_mode": {
    "name": "ipython",
    "version": 3
   },
   "file_extension": ".py",
   "mimetype": "text/x-python",
   "name": "python",
   "nbconvert_exporter": "python",
   "pygments_lexer": "ipython3",
   "version": "3.13.7"
  }
 },
 "nbformat": 4,
 "nbformat_minor": 5
}
